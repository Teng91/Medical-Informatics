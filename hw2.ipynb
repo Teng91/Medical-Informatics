{
 "cells": [
  {
   "cell_type": "markdown",
   "metadata": {
    "id": "vJUcgM0BhZG8"
   },
   "source": [
    "## 注意事項\n",
    "\n",
    "- **作業繳交**\n",
    "\t1. 截止日期: 以Cool為準。\n",
    "\t1. 繳交方式: 上傳至Cool作業區。\n",
    "\t1. 檔案格式: 請**修改助教提供之ipynb檔**，繳交修改後的檔案，並以學號作為檔名。(ex. hw1_b1234567.ipynb)\n",
    "\t1. 抄襲以零分計算，並由校規處置。\n",
    "\t1. 遲交24hr以內，分數x0.8，超過一天不予繳交\n",
    "- **程式碼要求**\n",
    "\t1. 除非題目要求，程式碼請務必正確的包裝在function當中\n",
    "\t1. 函式定義外自己的測試程式碼請放在測試區中\n",
    "\t1. 強烈建議自行複製範例輸出的字串，和自己的輸出字串用函式比對，確認是否完全一樣\n",
    "\t1. 實際評分會包含範例以外的測試資料\n",
    "\t1. 請注意\"回傳\"與\"print\"的差別\n",
    "\n",
    "## [題目連結 HackMD](https://hackmd.io/No1DWA_3TvqFuEsaGSzr2A)"
   ]
  },
  {
   "cell_type": "markdown",
   "metadata": {
    "id": "ObUHQOIbP73F"
   },
   "source": [
    "# **Q1**"
   ]
  },
  {
   "cell_type": "code",
   "execution_count": 474,
   "metadata": {
    "id": "-W2PQk6ugSY2"
   },
   "outputs": [
    {
     "name": "stdout",
     "output_type": "stream",
     "text": [
      "_____*_____\n",
      "____***____\n",
      "___*****___\n",
      "__*******__\n",
      "_*********_\n",
      "***********\n",
      "___*****___\n",
      "___*****___\n",
      "___*****___\n",
      "___*****___\n",
      "___*****___\n",
      "___*****___\n"
     ]
    }
   ],
   "source": [
    "def Q1_Draw_an_arrow(treeSize):\n",
    "    if treeSize < 2:\n",
    "        print('Too small!!!')\n",
    "        return\n",
    "    for i in range(treeSize+1):\n",
    "        print((treeSize-i)*'_'+'*'+(2*i*'*')+(treeSize-i)*'_')\n",
    "    count = 2*treeSize+1\n",
    "    for i in range(treeSize+1):\n",
    "        if treeSize%2 == 0:\n",
    "            print(((count-treeSize-1)//2)*'_'+(treeSize+1)*'*'+((count-treeSize-1)//2)*'_')\n",
    "        elif treeSize%2 == 1:\n",
    "            print(((count-treeSize)//2)*'_'+treeSize*'*'+((count-treeSize)//2)*'_')\n",
    "            \n",
    "Q1_Draw_an_arrow(5)"
   ]
  },
  {
   "cell_type": "markdown",
   "metadata": {
    "id": "GrChe75RQEfu"
   },
   "source": [
    "# **Q2**"
   ]
  },
  {
   "cell_type": "code",
   "execution_count": 4,
   "metadata": {
    "id": "i9XNXUbrQDq_"
   },
   "outputs": [
    {
     "name": "stdout",
     "output_type": "stream",
     "text": [
      "Bingo x 9\n"
     ]
    }
   ],
   "source": [
    "def bingo_game(bingo,n,pick_list): # you must modify this line too\n",
    "    count = 0\n",
    "    for i in range(len(pick_list)):\n",
    "        for a in range(n):\n",
    "            if pick_list[i] in bingo[a]:\n",
    "                b = bingo[a].index(pick_list[i])\n",
    "                d = a #存一個變數紀錄a\n",
    "        r = 0\n",
    "        c = b\n",
    "        while r < n:\n",
    "            if bingo[r][c] not in pick_list:\n",
    "                break\n",
    "            if r == n-1:\n",
    "                count += 1\n",
    "            r += 1\n",
    "        r = d\n",
    "        c = 0\n",
    "        while c < n:\n",
    "            if bingo[r][c] not in pick_list:\n",
    "                break\n",
    "            if c == n-1:\n",
    "                count += 1\n",
    "            c += 1\n",
    "        r = 0\n",
    "        c = 0\n",
    "        while r < n and c < n and r == c:\n",
    "            if bingo[r][c] not in pick_list:\n",
    "                break\n",
    "            if c == r == n-1:\n",
    "                count += 1\n",
    "            c += 1\n",
    "            r += 1\n",
    "        r = 0\n",
    "        c = n-1\n",
    "        while r < n and c < n and r == c:\n",
    "            if bingo[r][c] not in pick_list:\n",
    "                break\n",
    "            if r == n-1 and c == 0:\n",
    "                count += 1\n",
    "            c -= 1\n",
    "            r += 1\n",
    "    if count == 0:\n",
    "        print('Nope')\n",
    "    else:\n",
    "        print('Bingo x',count//n)\n",
    "        \n",
    "bingo_game(bingo=[[1, 2, 3], [4, 5, 6], [7, 8, 9]], n=3, pick_list=[1,2,3,4,5,6,7,8,9])"
   ]
  },
  {
   "cell_type": "markdown",
   "metadata": {
    "id": "aTX8S3V2QGl0"
   },
   "source": [
    "# **Q3**"
   ]
  },
  {
   "cell_type": "code",
   "execution_count": 476,
   "metadata": {
    "id": "xcXb9xDYgpyK"
   },
   "outputs": [
    {
     "name": "stdout",
     "output_type": "stream",
     "text": [
      "9\n",
      "0\n",
      "a\n",
      "aba\n",
      "ababa\n",
      "b\n",
      "bab\n"
     ]
    }
   ],
   "source": [
    "def find_substrings(S):\n",
    "    mylist = [] #裝所有組合\n",
    "    odd_list = [] #裝所有奇數組合\n",
    "    even_list = [] #裝所有偶數組合\n",
    "    length = len(S) #計算字串長度\n",
    "    odd_count = 0 #奇數對稱個數\n",
    "    even_count = 0 #偶數對稱個數\n",
    "    count_list = [] #裝對稱的所有組合\n",
    "    \n",
    "    for i in range(length): #所有組合\n",
    "        for j in range(length-i):\n",
    "            mylist.append(S[j:j+i+1])\n",
    "        \n",
    "    for i in range(1,length+1,2): #奇數組合\n",
    "        for j in range(length-i+1):\n",
    "            str1 = ''\n",
    "            for n in range(j,j+i):\n",
    "                str1 = str1+S[n]\n",
    "            odd_list.append(str1)\n",
    "    \n",
    "    for i in range(2,length+1,2): #偶數組合\n",
    "        for j in range(length-i+1):\n",
    "            str2 = ''\n",
    "            for n in range(j,j+i):\n",
    "                str2 = str2+S[n]\n",
    "            even_list.append(str2)\n",
    "\n",
    "    for str1 in odd_list: #奇數對稱個數\n",
    "        i = 0\n",
    "        while i < (int(len(str1)/2)+1):\n",
    "            if str1[i] == str1[-i-1]:\n",
    "                if i == (int(len(str1)/2)):\n",
    "                    odd_count += 1\n",
    "                    if str1 not in count_list:\n",
    "                        count_list.append(str1)\n",
    "                i += 1\n",
    "            else:\n",
    "                break\n",
    "    print(odd_count)\n",
    "    \n",
    "    for str2 in even_list: #偶數對稱個數\n",
    "        i = 0\n",
    "        while i < (int(len(str2)/2)+1):\n",
    "            if str2[i] == str2[-i-1]:\n",
    "                if i == (int(len(str2)/2)):\n",
    "                    even_count += 1\n",
    "                    if str2 not in count_list:\n",
    "                        count_list.append(str2)\n",
    "                i += 1\n",
    "            else:\n",
    "                break\n",
    "    print(even_count)\n",
    "    \n",
    "    answer_list = sorted(count_list) #按照字母順序排列\n",
    "    for i in answer_list:\n",
    "        print(i)\n",
    "        \n",
    "find_substrings(\"ababa\")"
   ]
  },
  {
   "cell_type": "markdown",
   "metadata": {
    "id": "sIgw1N1Ygq2a"
   },
   "source": [
    "# 測試區(實際評分會包含範例以外的測試資料)\n",
    "### 在if當中的程式可以不用移除"
   ]
  },
  {
   "cell_type": "code",
   "execution_count": 477,
   "metadata": {
    "id": "ABSC2jI4gqfW"
   },
   "outputs": [
    {
     "name": "stdout",
     "output_type": "stream",
     "text": [
      "Hello world.\n"
     ]
    }
   ],
   "source": [
    "if __name__ == '__main__':\n",
    "  # You can leave anything you want in this block.\n",
    "  print(\"Hello world.\")"
   ]
  }
 ],
 "metadata": {
  "colab": {
   "collapsed_sections": [],
   "name": "IMP_HW2.ipynb",
   "provenance": []
  },
  "kernelspec": {
   "display_name": "Python 3",
   "language": "python",
   "name": "python3"
  },
  "language_info": {
   "codemirror_mode": {
    "name": "ipython",
    "version": 3
   },
   "file_extension": ".py",
   "mimetype": "text/x-python",
   "name": "python",
   "nbconvert_exporter": "python",
   "pygments_lexer": "ipython3",
   "version": "3.8.8"
  }
 },
 "nbformat": 4,
 "nbformat_minor": 1
}
