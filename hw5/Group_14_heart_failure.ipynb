{
 "cells": [
  {
   "attachments": {},
   "cell_type": "markdown",
   "id": "599d875c",
   "metadata": {},
   "source": [
    "# Heart Failure Prediction Dataset"
   ]
  },
  {
   "cell_type": "markdown",
   "id": "9a797d32",
   "metadata": {},
   "source": [
    "## 組員名單\n",
    "李沛綺 d10429002 <br/>\n",
    "鄧喬尹 b07602001 <br/>\n",
    "呂祐寬 b10401019 <br/>\n",
    "羅偉嘉 f04424006 <br/>"
   ]
  },
  {
   "cell_type": "code",
   "execution_count": 1,
   "id": "37996609",
   "metadata": {},
   "outputs": [],
   "source": [
    "import numpy as np\n",
    "import pandas as pd"
   ]
  },
  {
   "attachments": {},
   "cell_type": "markdown",
   "id": "6ad1f4f3",
   "metadata": {},
   "source": [
    "## Data preprocessing"
   ]
  },
  {
   "cell_type": "code",
   "execution_count": 2,
   "id": "63d8a652",
   "metadata": {},
   "outputs": [],
   "source": [
    "df = pd.read_csv('heart.csv')"
   ]
  },
  {
   "cell_type": "markdown",
   "id": "2ece45d7",
   "metadata": {},
   "source": [
    "### 確認各欄位之資料類型"
   ]
  },
  {
   "cell_type": "code",
   "execution_count": 3,
   "id": "5398fb08",
   "metadata": {},
   "outputs": [
    {
     "data": {
      "text/plain": [
       "Age                 int64\n",
       "Sex                object\n",
       "ChestPainType      object\n",
       "RestingBP           int64\n",
       "Cholesterol         int64\n",
       "FastingBS           int64\n",
       "RestingECG         object\n",
       "MaxHR               int64\n",
       "ExerciseAngina     object\n",
       "Oldpeak           float64\n",
       "ST_Slope           object\n",
       "HeartDisease        int64\n",
       "dtype: object"
      ]
     },
     "execution_count": 3,
     "metadata": {},
     "output_type": "execute_result"
    }
   ],
   "source": [
    "df.dtypes"
   ]
  },
  {
   "cell_type": "markdown",
   "id": "87ffca28",
   "metadata": {},
   "source": [
    "### 將類別的資料轉換為Dummy variable"
   ]
  },
  {
   "cell_type": "code",
   "execution_count": 4,
   "id": "0f9b3d2e",
   "metadata": {},
   "outputs": [],
   "source": [
    "df_dummy = pd.get_dummies(df)"
   ]
  },
  {
   "cell_type": "markdown",
   "id": "458a2015",
   "metadata": {},
   "source": [
    "### 準備 Feature(X) 及 Label(y)"
   ]
  },
  {
   "cell_type": "code",
   "execution_count": 5,
   "id": "fd082b36",
   "metadata": {},
   "outputs": [],
   "source": [
    "y = df_dummy.pop('HeartDisease').values"
   ]
  },
  {
   "cell_type": "code",
   "execution_count": 6,
   "id": "a9c4a54b",
   "metadata": {},
   "outputs": [],
   "source": [
    "X = df_dummy.to_numpy()"
   ]
  },
  {
   "cell_type": "markdown",
   "id": "4f79c264",
   "metadata": {},
   "source": [
    "### 準備訓練資料集(Training dataset)、驗證資料集(Validating dataset)及測試資料集(Testing dataset)"
   ]
  },
  {
   "cell_type": "code",
   "execution_count": 7,
   "id": "f135a173",
   "metadata": {},
   "outputs": [],
   "source": [
    "from sklearn.model_selection import train_test_split\n",
    "\n",
    "X_train, X_test, y_train, y_test = train_test_split(X, \n",
    "                                                    y, \n",
    "                                                    test_size=0.1, \n",
    "                                                    random_state=1, \n",
    "                                                    stratify=y)\n",
    "X_train, X_valid, y_train, y_valid = train_test_split(X_train, \n",
    "                                                      y_train, \n",
    "                                                      test_size=0.1, \n",
    "                                                      random_state=1, \n",
    "                                                      stratify=y_train)"
   ]
  },
  {
   "cell_type": "markdown",
   "id": "6542f3e2",
   "metadata": {},
   "source": [
    "### Normalizing dataset"
   ]
  },
  {
   "cell_type": "code",
   "execution_count": 8,
   "id": "8ba54e85",
   "metadata": {},
   "outputs": [],
   "source": [
    "from sklearn.preprocessing import StandardScaler\n",
    "sc = StandardScaler()\n",
    "sc.fit(X_train)\n",
    "X_train_std = sc.transform(X_train)\n",
    "X_valid_std = sc.transform(X_valid)\n",
    "X_test_std = sc.transform(X_test)"
   ]
  },
  {
   "cell_type": "markdown",
   "id": "d7cca402",
   "metadata": {},
   "source": [
    "## Training model"
   ]
  },
  {
   "cell_type": "markdown",
   "id": "cea7d7cb",
   "metadata": {},
   "source": [
    "### Perceptron"
   ]
  },
  {
   "cell_type": "code",
   "execution_count": 9,
   "id": "40392198",
   "metadata": {},
   "outputs": [
    {
     "name": "stdout",
     "output_type": "stream",
     "text": [
      "Accuracy: 0.829\n",
      "Accuracy: 0.819\n"
     ]
    }
   ],
   "source": [
    "from sklearn.linear_model import Perceptron\n",
    "ppn = Perceptron(eta0=0.1, random_state=1)\n",
    "ppn.fit(X_train_std, y_train)\n",
    "print('Accuracy: %.3f' % ppn.score(X_train_std, y_train))\n",
    "print('Accuracy: %.3f' % ppn.score(X_valid_std, y_valid))"
   ]
  },
  {
   "cell_type": "code",
   "execution_count": 10,
   "id": "71d83a27",
   "metadata": {
    "scrolled": true
   },
   "outputs": [
    {
     "name": "stdout",
     "output_type": "stream",
     "text": [
      "Accuracy: 0.804\n"
     ]
    }
   ],
   "source": [
    "print('Accuracy: %.3f' % ppn.score(X_test_std, y_test))"
   ]
  },
  {
   "cell_type": "markdown",
   "id": "1d936fa6",
   "metadata": {},
   "source": [
    "### Logistic Regression"
   ]
  },
  {
   "cell_type": "code",
   "execution_count": 11,
   "id": "ae734c16",
   "metadata": {
    "scrolled": true
   },
   "outputs": [
    {
     "name": "stdout",
     "output_type": "stream",
     "text": [
      "Accuracy: 0.872\n",
      "Accuracy: 0.867\n"
     ]
    }
   ],
   "source": [
    "from sklearn.linear_model import LogisticRegression\n",
    "lr = LogisticRegression(C=100.0, random_state=1, solver='lbfgs', multi_class='ovr', penalty = 'l2')\n",
    "lr.fit(X_train_std, y_train)\n",
    "print('Accuracy: %.3f' % lr.score(X_train_std, y_train))\n",
    "print('Accuracy: %.3f' % lr.score(X_valid_std, y_valid))"
   ]
  },
  {
   "cell_type": "code",
   "execution_count": 12,
   "id": "f05c237d",
   "metadata": {},
   "outputs": [
    {
     "name": "stdout",
     "output_type": "stream",
     "text": [
      "Accuracy: 0.859\n"
     ]
    }
   ],
   "source": [
    "print('Accuracy: %.3f' % lr.score(X_test_std, y_test))"
   ]
  },
  {
   "cell_type": "markdown",
   "id": "2ba5b235",
   "metadata": {},
   "source": [
    "### Decision Tree"
   ]
  },
  {
   "cell_type": "code",
   "execution_count": 13,
   "id": "f6bfc2e7",
   "metadata": {},
   "outputs": [
    {
     "name": "stdout",
     "output_type": "stream",
     "text": [
      "Accuracy: 0.886\n",
      "Accuracy: 0.398\n"
     ]
    }
   ],
   "source": [
    "from sklearn.tree import DecisionTreeClassifier\n",
    "tree_model = DecisionTreeClassifier(criterion='gini', max_depth=4, random_state=2)\n",
    "tree_model.fit(X_train, y_train)\n",
    "print('Accuracy: %.3f' % tree_model.score(X_train, y_train))\n",
    "print('Accuracy: %.3f' % tree_model.score(X_valid_std, y_valid))"
   ]
  },
  {
   "cell_type": "code",
   "execution_count": 14,
   "id": "64fa5897",
   "metadata": {},
   "outputs": [
    {
     "name": "stdout",
     "output_type": "stream",
     "text": [
      "Accuracy: 0.859\n"
     ]
    }
   ],
   "source": [
    "print('Accuracy: %.3f' % tree_model.score(X_test, y_test))"
   ]
  },
  {
   "cell_type": "markdown",
   "id": "91bd1e57",
   "metadata": {},
   "source": [
    "### Random Forest"
   ]
  },
  {
   "cell_type": "code",
   "execution_count": 15,
   "id": "1ae265c2",
   "metadata": {},
   "outputs": [
    {
     "name": "stdout",
     "output_type": "stream",
     "text": [
      "Accuracy: 1.000\n",
      "Accuracy: 0.855\n"
     ]
    }
   ],
   "source": [
    "from sklearn.ensemble import RandomForestClassifier\n",
    "forest = RandomForestClassifier(criterion='gini', n_estimators=100, random_state=1, n_jobs=2)\n",
    "# forest = RandomForestClassifier(n_estimators=1000)\n",
    "forest.fit(X_train, y_train)\n",
    "print('Accuracy: %.3f' % forest.score(X_train, y_train))\n",
    "print('Accuracy: %.3f' % forest.score(X_valid_std, y_valid))"
   ]
  },
  {
   "cell_type": "code",
   "execution_count": 16,
   "id": "a5110b00",
   "metadata": {
    "scrolled": true
   },
   "outputs": [
    {
     "name": "stdout",
     "output_type": "stream",
     "text": [
      "Accuracy: 0.859\n"
     ]
    }
   ],
   "source": [
    "print('Accuracy: %.3f' % forest.score(X_test, y_test))"
   ]
  },
  {
   "cell_type": "markdown",
   "id": "f074dcbd",
   "metadata": {},
   "source": [
    "### 繪製 Random Forest 的圖"
   ]
  },
  {
   "cell_type": "code",
   "execution_count": 17,
   "id": "f07dfc92",
   "metadata": {},
   "outputs": [
    {
     "data": {
      "image/png": "[encoded data removed]",
      "text/plain": [
       "<Figure size 432x288 with 1 Axes>"
      ]
     },
     "metadata": {
      "needs_background": "light"
     },
     "output_type": "display_data"
    }
   ],
   "source": [
    "from sklearn import tree\n",
    "import matplotlib.pyplot as plt\n",
    "tree.plot_tree(tree_model)  \n",
    "plt.savefig('03_21_1.pdf')\n",
    "plt.show()"
   ]
  },
  {
   "cell_type": "code",
   "execution_count": 18,
   "id": "5713c236",
   "metadata": {},
   "outputs": [],
   "source": [
    "from pydotplus import graph_from_dot_data\n",
    "from sklearn.tree import export_graphviz"
   ]
  },
  {
   "cell_type": "code",
   "execution_count": 19,
   "id": "8e159ad3",
   "metadata": {},
   "outputs": [
    {
     "data": {
      "image/png": "[encoded data removed]",
      "text/plain": [
       "<Figure size 432x288 with 1 Axes>"
      ]
     },
     "metadata": {
      "needs_background": "light"
     },
     "output_type": "display_data"
    }
   ],
   "source": [
    "importances = forest.feature_importances_\n",
    "feat_labels = df_dummy.columns\n",
    "indices = np.argsort(importances)[::-1] # Reverse an array by [::-1]\n",
    "\n",
    "plt.title('Feature Importance')\n",
    "plt.bar(range(X_train.shape[1]), importances[indices], align='center')\n",
    "\n",
    "plt.xticks(range(X_train.shape[1]), feat_labels[indices], rotation=90)\n",
    "plt.xlim([-1, X_train.shape[1]])\n",
    "plt.tight_layout()\n",
    "#plt.savefig('images/04_09.png', dpi=300)\n",
    "plt.show()"
   ]
  },
  {
   "cell_type": "markdown",
   "id": "71c4e59e",
   "metadata": {},
   "source": [
    "### SVC"
   ]
  },
  {
   "cell_type": "code",
   "execution_count": 20,
   "id": "93c388a4",
   "metadata": {},
   "outputs": [
    {
     "name": "stdout",
     "output_type": "stream",
     "text": [
      "Accuracy: 0.872\n",
      "Accuracy: 0.880\n"
     ]
    }
   ],
   "source": [
    "from sklearn.svm import SVC\n",
    "svm = SVC(kernel='linear', random_state=1)\n",
    "svm.fit(X_train_std, y_train)\n",
    "print('Accuracy: %.3f' % svm.score(X_train_std, y_train))\n",
    "print('Accuracy: %.3f' % svm.score(X_valid_std, y_valid))"
   ]
  },
  {
   "cell_type": "code",
   "execution_count": 21,
   "id": "e734d69d",
   "metadata": {},
   "outputs": [
    {
     "name": "stdout",
     "output_type": "stream",
     "text": [
      "Accuracy: 0.870\n"
     ]
    }
   ],
   "source": [
    "print('Accuracy: %.3f' % svm.score(X_test_std, y_test))"
   ]
  },
  {
   "cell_type": "code",
   "execution_count": 22,
   "id": "0ba37492",
   "metadata": {},
   "outputs": [
    {
     "name": "stdout",
     "output_type": "stream",
     "text": [
      "Accuracy: 0.907\n",
      "Accuracy: 0.855\n"
     ]
    }
   ],
   "source": [
    "svm2 = SVC(kernel='rbf', random_state=1)\n",
    "svm2.fit(X_train_std, y_train)\n",
    "print('Accuracy: %.3f' % svm2.score(X_train_std, y_train))\n",
    "print('Accuracy: %.3f' % svm2.score(X_valid_std, y_valid))"
   ]
  },
  {
   "cell_type": "code",
   "execution_count": 23,
   "id": "84729e0e",
   "metadata": {},
   "outputs": [
    {
     "name": "stdout",
     "output_type": "stream",
     "text": [
      "Accuracy: 0.859\n"
     ]
    }
   ],
   "source": [
    "print('Accuracy: %.3f' % svm2.score(X_test_std, y_test))"
   ]
  }
 ],
 "metadata": {
  "kernelspec": {
   "display_name": "Python 3",
   "language": "python",
   "name": "python3"
  },
  "language_info": {
   "codemirror_mode": {
    "name": "ipython",
    "version": 3
   },
   "file_extension": ".py",
   "mimetype": "text/x-python",
   "name": "python",
   "nbconvert_exporter": "python",
   "pygments_lexer": "ipython3",
   "version": "3.8.8"
  }
 },
 "nbformat": 4,
 "nbformat_minor": 5
}
