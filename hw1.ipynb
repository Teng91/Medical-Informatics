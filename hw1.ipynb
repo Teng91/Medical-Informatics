{
 "cells": [
  {
   "cell_type": "markdown",
   "metadata": {
    "id": "NmS72oOVhkV_"
   },
   "source": [
    "## Q1"
   ]
  },
  {
   "cell_type": "code",
   "execution_count": 148,
   "metadata": {
    "colab": {
     "base_uri": "https://localhost:8080/"
    },
    "id": "P4AX5U9pUuyR",
    "outputId": "cad13471-a256-4b0d-898e-c7aa71529d55"
   },
   "outputs": [
    {
     "name": "stdout",
     "output_type": "stream",
     "text": [
      "please input radius: 3.5\n",
      "please input height: 5\n",
      "Area=186.92476288859268, Volume=192.42255003237483\n"
     ]
    }
   ],
   "source": [
    "import math\n",
    "r = float(input(\"please input radius: \"))\n",
    "h = float(input(\"please input height: \"))\n",
    "Area = r**2*math.pi*2+2*math.pi*r*h\n",
    "Volume = r**2*math.pi*h\n",
    "print(f\"Area={Area}, Volume={Volume}\")"
   ]
  },
  {
   "cell_type": "markdown",
   "metadata": {
    "id": "aUatB1nUnR8t"
   },
   "source": [
    "## Q2"
   ]
  },
  {
   "cell_type": "code",
   "execution_count": 149,
   "metadata": {
    "ExecuteTime": {
     "end_time": "2021-10-14T06:28:34.818083Z",
     "start_time": "2021-10-14T06:28:34.257218Z"
    },
    "id": "0M91HxEpnRd6"
   },
   "outputs": [
    {
     "name": "stdout",
     "output_type": "stream",
     "text": [
      "please enter x: 2\n",
      "No:(\n"
     ]
    }
   ],
   "source": [
    "import math\n",
    "a=1\n",
    "b=1\n",
    "c=1\n",
    "def f(x):\n",
    "    global a,b,c # Don't modify this\n",
    "    f = a*x**2 + b*x +c\n",
    "    return f\n",
    "    # Given a integer x and return ax^2+bx+c, the value of a,b,c will be different when grading.\n",
    "    \n",
    "def Q2(n):\n",
    "# If f(n) is divide by 2 or 3 or 5 then print \"Yes:)\" otherwise print \"No:(\"\n",
    "    if n%2==0 or n%3==0 or n%5==0:\n",
    "        print(\"Yes:)\")\n",
    "    else:\n",
    "        print(\"No:(\")\n",
    "\n",
    "x = int(input(\"please enter x: \"))\n",
    "n = f(x)\n",
    "Q2(n)"
   ]
  },
  {
   "cell_type": "markdown",
   "metadata": {
    "id": "cC_oaqvU4waU"
   },
   "source": [
    "## Q3"
   ]
  },
  {
   "cell_type": "code",
   "execution_count": 147,
   "metadata": {
    "ExecuteTime": {
     "end_time": "2021-10-14T06:36:53.585843Z",
     "start_time": "2021-10-14T06:36:53.556299Z"
    },
    "id": "KG4QivGE3loK"
   },
   "outputs": [
    {
     "name": "stdout",
     "output_type": "stream",
     "text": [
      "0A0B, the answer is 96.\n"
     ]
    },
    {
     "data": {
      "text/plain": [
       "0"
      ]
     },
     "execution_count": 147,
     "metadata": {},
     "output_type": "execute_result"
    }
   ],
   "source": [
    "import random\n",
    "\n",
    "def generate_answer(): # no need to modify this function\n",
    "    rand_nums = random.sample(list(range(0, 10)), k=2)\n",
    "    return rand_nums[0], rand_nums[1] #This function generates 2 random, unrepeated numbers\n",
    "\n",
    "def guessing_game(guess1, guess2):\n",
    "    if guess1==guess2 or isinstance(guess1,int)==False or isinstance(guess2,int)==False:\n",
    "        print(\"Invalid guess!\")\n",
    "        return -1\n",
    "    else:\n",
    "        a, b = generate_answer()\n",
    "        A = 0\n",
    "        B = 0\n",
    "        if a==guess1:\n",
    "            A=A+1\n",
    "        if a==guess2:\n",
    "            B=B+1\n",
    "        if b==guess1:\n",
    "            B=B+1\n",
    "        if b==guess2:\n",
    "            A=A+1\n",
    "        ans = str(a)+str(b)\n",
    "        print('{}A{}B, the answer is {}.'.format(A,B,ans))\n",
    "        return 0\n",
    "\n",
    "guessing_game(3,4)"
   ]
  }
 ],
 "metadata": {
  "colab": {
   "collapsed_sections": [],
   "name": "IMP_hw1.ipynb",
   "provenance": []
  },
  "interpreter": {
   "hash": "e534e48711db4d1e1c48977d0d14ff85b1f16d41bcc4fdfd88268a329b3c9d66"
  },
  "kernelspec": {
   "display_name": "Python 3",
   "language": "python",
   "name": "python3"
  },
  "language_info": {
   "codemirror_mode": {
    "name": "ipython",
    "version": 3
   },
   "file_extension": ".py",
   "mimetype": "text/x-python",
   "name": "python",
   "nbconvert_exporter": "python",
   "pygments_lexer": "ipython3",
   "version": "3.8.8"
  },
  "toc": {
   "base_numbering": 1,
   "nav_menu": {},
   "number_sections": true,
   "sideBar": true,
   "skip_h1_title": false,
   "title_cell": "Table of Contents",
   "title_sidebar": "Contents",
   "toc_cell": false,
   "toc_position": {},
   "toc_section_display": true,
   "toc_window_display": false
  }
 },
 "nbformat": 4,
 "nbformat_minor": 1
}
