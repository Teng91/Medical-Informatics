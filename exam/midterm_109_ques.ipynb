{
 "cells": [
  {
   "cell_type": "markdown",
   "metadata": {},
   "source": [
    "<div style=\"text-align:center;color:#888888;\"><h2> IMP 5001 - Introduction to Medical Informatics </h2></div>\n",
    "<div style=\"text-align:center;\"><h1> Midterm Exam (109-1) </h1></div>\n",
    "\n",
    "* Exam date: 2020/11/14 9:10-12:10\n",
    "* Open everything except Internet connection and any sort of communication.\n",
    "* There are 6 questions, 120 points in total.\n",
    "* When you find necessary to raise an exception, please include a meaningful error message to indicate what the source of the error is."
   ]
  },
  {
   "cell_type": "code",
   "execution_count": null,
   "metadata": {},
   "outputs": [],
   "source": [
    "from IPython.core.interactiveshell import InteractiveShell\n",
    "InteractiveShell.ast_node_interactivity = \"all\""
   ]
  },
  {
   "cell_type": "markdown",
   "metadata": {},
   "source": [
    "### <span style=\"color:red\">Question 1:</span> RNA Transcription (20 pts)\n",
    "\n",
    "Both DNA and RNA strands are a sequence of nucleotides. The four nucleotides found in DNA are adenine (A), cytosine (C), guanine (G) and thymine (T); The four nucleotides found in RNA are adenine (A), cytosine (C), guanine (G) and uracil (U).\n",
    "\n",
    "Given a DNA strand, its transcribed RNA strand is formed by replacing each nucleotide with its complement:\n",
    "* G -> C\n",
    "* C -> G\n",
    "* T -> A\n",
    "* A -> U\n",
    "\n",
    "Write a function called `dna2rna` that takes a string of DNA sequence and return its RNA complement as a string.\n",
    "\n",
    "<span style=\"color:green\"> <b>Examples:</b></span>\n",
    "```python\n",
    "print(rna2dna('TTGGTTAGTGTTTT'))\n",
    "```\n",
    "Should result in\n",
    "```python\n",
    "AACCAAUCACAAAA\n",
    "```"
   ]
  },
  {
   "cell_type": "code",
   "execution_count": 17,
   "metadata": {},
   "outputs": [],
   "source": [
    "# Question 1\n",
    "\n",
    "def rna2dna(dna):\n",
    "    ans = \"\"\n",
    "    for i in dna:\n",
    "        if i == \"G\":\n",
    "            ans += \"C\"\n",
    "        elif i == \"C\":\n",
    "            ans += \"G\"\n",
    "        elif i == \"T\":\n",
    "            ans += \"A\"\n",
    "        elif i == \"A\":\n",
    "            ans += \"U\"\n",
    "    return ans"
   ]
  },
  {
   "cell_type": "code",
   "execution_count": 20,
   "metadata": {},
   "outputs": [],
   "source": [
    "def test_Q1():\n",
    "    assert rna2dna('TTGGTTAGTGTTTT') == 'AACCAAUCACAAAA'\n",
    "    \n",
    "test_Q1()"
   ]
  },
  {
   "cell_type": "markdown",
   "metadata": {},
   "source": [
    "### <span style=\"color:red\">Question 2:</span> Kindergarten Garden (20 pts)\n",
    "\n",
    "The kindergarten class is learning about growing plants. The teacher thought it would be a good idea to give them actual seeds, plant them in actual dirt, and grow actual plants. They've chosen to grow grass, clover, radishes, and violets. To this end, the children have put little cups along the window sills, and planted one type of plant in each cup, choosing randomly from the available types of seeds.\n",
    "```python\n",
    "[window][window][window]\n",
    "........................ # each dot represents a cup\n",
    "........................\n",
    "```\n",
    "\n",
    "There are 12 children in the class: Alice, Bob, Charlie, David, Eve, Fred, Ginny, Harriet, Ileana, Joseph, Kincaid, and Larry. Each child gets 4 cups, two on each row. Their teacher assigns cups to the children alphabetically by their names. For instance, the following diagram represents Alice's plants:\n",
    "```python\n",
    "[window][window][window]\n",
    "VR......................\n",
    "CG......................\n",
    "```\n",
    "In the first row, nearest the windows, she has a <b>V</b>iolet and a <b>R</b>adish. In the second row she has a <b>C</b>lover and some <b>G</b>rass.\n",
    "\n",
    "Write a function called `myPlant` to determine which plants each child in the kindergarten class is responsible for.  Your program will be given with the plants from left-to-right starting with the row nearest the windows. From this, it should be able to determine which plants belong to each student.\n",
    "\n",
    "For example, if it's told that the garden looks like so:\n",
    "```python\n",
    "[window][window][window]\n",
    "VRCGVVRVCGGCCGVRGCVCGCGV\n",
    "CGCCCGCRRGVCGCRVVCVGCGCV\n",
    "```\n",
    "Then if asked for Alice's plants, it should provide:\n",
    "* <b>V</b>iolets, <b>R</b>adishes, <b>C</b>lover, <b>G</b>rass\n",
    "\n",
    "While asking for Bob's plants would yield:\n",
    "* <b>C</b>lover, <b>G</b>rass, <b>C</b>lover, <b>C</b>lover\n",
    "\n",
    "<span style=\"color:green\"> <b>Examples:</b></span>\n",
    "```python\n",
    "print(myPlant('Alice'  , 'VRCGVVRVCGGCCGVRGCVCGCGV', 'CGCCCGCRRGVCGCRVVCVGCGCV')) \n",
    "print(myPlant('Bob'    , 'VRCGVVRVCGGCCGVRGCVCGCGV', 'CGCCCGCRRGVCGCRVVCVGCGCV'))\n",
    "print(myPlant('Charlie', 'VRCGVVRVCGGCCGVRGCVCGCGV', 'CGCCCGCRRGVCGCRVVCVGCGCV', 'VCGCVCVCVRVCVGRGGGVVRVCR'))\n",
    "```\n",
    "Should result in\n",
    "```python\n",
    "VRCG\n",
    "CGCC\n",
    "VVCGVC\n",
    "```"
   ]
  },
  {
   "cell_type": "code",
   "execution_count": 26,
   "metadata": {},
   "outputs": [],
   "source": [
    "# Question 2\n",
    "\n",
    "def myPlant(child, *plantSeqs):\n",
    "    children = ['Alice', 'Bob', 'Charlie', 'David', 'Eve', 'Fred', 'Ginny', 'Harriet', 'Ileana', 'Joseph', 'Kincaid', 'Larry']\n",
    "    location = children.index(child) #children的list裡面找到def裡面的child對應的位置（Alice=children[0])\n",
    "    ans = \"\"\n",
    "    for i in plantSeqs:\n",
    "        ans += i[2*location]\n",
    "        ans += i[2*location+1]\n",
    "    return ans"
   ]
  },
  {
   "cell_type": "code",
   "execution_count": 27,
   "metadata": {},
   "outputs": [],
   "source": [
    "def test_Q2():\n",
    "    assert myPlant('Alice'  , 'VRCGVVRVCGGCCGVRGCVCGCGV', 'CGCCCGCRRGVCGCRVVCVGCGCV') == 'VRCG'\n",
    "    assert myPlant('Bob'    , 'VRCGVVRVCGGCCGVRGCVCGCGV', 'CGCCCGCRRGVCGCRVVCVGCGCV') == 'CGCC'\n",
    "    assert myPlant('Charlie', 'VRCGVVRVCGGCCGVRGCVCGCGV', 'CGCCCGCRRGVCGCRVVCVGCGCV', 'VCGCVCVCVRVCVGRGGGVVRVCR') == 'VVCGVC'\n",
    "    \n",
    "test_Q2()"
   ]
  },
  {
   "cell_type": "markdown",
   "metadata": {},
   "source": [
    "### <span style=\"color:red\">Question 3:</span> Compute Differential (20 pts)\n",
    "\n",
    "Write a function called `differentialMaker` which takes a function `f` and a positive number `h`, and returns another function that has one parameter `x`. The returned function computes the differential of `f` at `x` through the following approximation:\n",
    "$$f'(x) \\approx \\frac{f(x+h)-f(x-h)}{2h}$$"
   ]
  },
  {
   "cell_type": "code",
   "execution_count": 49,
   "metadata": {},
   "outputs": [],
   "source": [
    "# Question 3\n",
    "\n",
    "import math\n",
    "\n",
    "def differentialMaker(f,h=1e-5):\n",
    "    def do_f(x):\n",
    "        return (f(x+h)-f(x-h))/(2*h)\n",
    "    return do_f"
   ]
  },
  {
   "cell_type": "code",
   "execution_count": 50,
   "metadata": {},
   "outputs": [],
   "source": [
    "def test_Q3():\n",
    "    f1_diff = differentialMaker(lambda x: x**2)\n",
    "    f2_diff = differentialMaker(lambda x: math.sin(x))\n",
    "    f3_diff = differentialMaker(lambda x: math.log(x))\n",
    "    assert abs(f1_diff(5) - 2*5) < 1e-5\n",
    "    assert abs(f2_diff(3) - math.cos(3)) < 1e-5\n",
    "    assert abs(f3_diff(7) - 1/7) < 1e-5\n",
    "    \n",
    "test_Q3()"
   ]
  },
  {
   "cell_type": "markdown",
   "metadata": {},
   "source": [
    "### <span style=\"color:red\">Question 4:</span> Print Board (20 pts)\n",
    "Write a function called `printBoard` to print out a board.\n",
    "\n",
    "Note: This function will be useful for visualization purposes in Question 5 and Question 6.\n",
    "\n",
    "<span style=\"color:green\"> <b>Examples:</b></span>\n",
    "```python\n",
    "board1 = ['XOOX',\n",
    "          'O  O',\n",
    "          'O OX',\n",
    "          'O OX',\n",
    "          'XOX ']\n",
    "    \n",
    "board2 = ['·*·*·',\n",
    "          '··*··',\n",
    "          '··*··',\n",
    "          '·····']\n",
    "\n",
    "printBoard(board1)\n",
    "printBoard(board2)\n",
    "```\n",
    "Should result in\n",
    "```python\n",
    "+----+\n",
    "|XOOX|\n",
    "|O  O|\n",
    "|O OX|\n",
    "|O OX|\n",
    "|XOX |\n",
    "+----+\n",
    "\n",
    "+-----+\n",
    "|·*·*·|\n",
    "|··*··|\n",
    "|··*··|\n",
    "|·····|\n",
    "+-----+\n",
    "```"
   ]
  },
  {
   "cell_type": "code",
   "execution_count": 2,
   "metadata": {},
   "outputs": [],
   "source": [
    "# Question 4\n",
    "\n",
    "def printBoard(board):\n",
    "    str1 = \"+\"\n",
    "    print(str1+\"-\"*len(board[0])+str1) #board[0]=board-list裡面第一個逗號的資料項數\n",
    "    str2 = \"|\"\n",
    "    for i in range(len(board)):\n",
    "        print(str2+str(board[i])+str2)\n",
    "    print(str1+\"-\"*len(board[0])+str1)"
   ]
  },
  {
   "cell_type": "code",
   "execution_count": 7,
   "metadata": {},
   "outputs": [
    {
     "name": "stdout",
     "output_type": "stream",
     "text": [
      "+----+\n",
      "|XOOX|\n",
      "|O  O|\n",
      "|O OX|\n",
      "|O OX|\n",
      "|XOX |\n",
      "+----+\n",
      "+-----+\n",
      "|·*·*·|\n",
      "|··*··|\n",
      "|··*··|\n",
      "|·····|\n",
      "+-----+\n"
     ]
    }
   ],
   "source": [
    "def test_Q4():\n",
    "    board1 = ['XOOX',\n",
    "              'O  O',\n",
    "              'O OX',\n",
    "              'O OX',\n",
    "              'XOX ']\n",
    "    \n",
    "    board2 = ['·*·*·',\n",
    "              '··*··',\n",
    "              '··*··',\n",
    "              '·····']\n",
    "    \n",
    "    printBoard(board1)\n",
    "    printBoard(board2)\n",
    "    \n",
    "test_Q4()"
   ]
  },
  {
   "cell_type": "markdown",
   "metadata": {},
   "source": [
    "### <span style=\"color:red\">Question 5:</span> Minesweeper (20 pts)\n",
    "\n",
    "Minesweeper is a popular game where the user has to find the mines using numeric hints that indicate how many mines are directly adjacent (horizontally, vertically, diagonally) to a square. In the following diagram is a 4x5 minesweeper board, where the empty spaces are indicated by `·` and the mines are indicated by `*`.\n",
    "```python\n",
    "·*·*·\n",
    "··*··\n",
    "··*··\n",
    "·····\n",
    "```\n",
    "Write a function called `mineCount` that takes a board as input, and for each empty square counts the number of mines adjacent to it and replaces that square with the count. If an empty square has no adjacent mines at all, leave that square unchanged.\n",
    "\n",
    "<span style=\"color:green\"> <b>Examples:</b></span>\n",
    "```python\n",
    "board1 = ['·*·*·',\n",
    "          '··*··',\n",
    "          '··*··',\n",
    "          '·····']\n",
    "\n",
    "printBoard(mineCount(board1))\n",
    "```\n",
    "Should result in\n",
    "```python\n",
    "+-----+\n",
    "|1*3*1|\n",
    "|13*31|\n",
    "|.2*2.|\n",
    "|.111.|\n",
    "+-----+\n",
    "```"
   ]
  },
  {
   "cell_type": "code",
   "execution_count": 8,
   "metadata": {},
   "outputs": [],
   "source": [
    "import copy\n",
    "def mineCount(board):\n",
    "    height = len(board)\n",
    "    width = len(board[0])\n",
    "    ans = []\n",
    "    ans_str = \"\"\n",
    "    for i in range(len(board)): #從左上開始，垂直方向\n",
    "        for j in range(len(board[i])): #從左上開始，水平方向\n",
    "            count = 0\n",
    "            if board[i][j]!=\"*\":\n",
    "                if i-1>=0: #上\n",
    "                    if board[i-1][j] == \"*\":\n",
    "                        count+=1\n",
    "                if i+1<height: #下\n",
    "                    if board[i+1][j] == \"*\":\n",
    "                        count+=1\n",
    "                if j-1>=0: #左\n",
    "                    if board[i][j-1] == \"*\":\n",
    "                        count+=1\n",
    "                if j+1<width: #右\n",
    "                    if board[i][j+1] == \"*\":\n",
    "                        count+=1\n",
    "                if i-1>=0 and j-1>=0: #左上\n",
    "                    if board[i-1][j-1] == \"*\":\n",
    "                        count+=1\n",
    "                if i+1<height and j+1<width: #右下\n",
    "                    if board[i+1][j+1] == \"*\":\n",
    "                        count+=1\n",
    "                if i-1>=0 and j+1<width: #左下\n",
    "                    if board[i-1][j+1] == \"*\":\n",
    "                        count+=1\n",
    "                if i+1<height and j-1>=0: #右上\n",
    "                    if board[i+1][j-1] == \"*\":\n",
    "                        count+=1\n",
    "                if count==0:\n",
    "                    ans_str += board[i][j]\n",
    "                else:\n",
    "                    ans_str += str(count)\n",
    "            elif board[i][j]==\"*\": #如果位置上剛好是*字，保留*字到新的ans_list\n",
    "                ans_str += \"*\"\n",
    "        ans.append(ans_str)\n",
    "        ans_str = \"\"\n",
    "    return ans"
   ]
  },
  {
   "cell_type": "code",
   "execution_count": 9,
   "metadata": {},
   "outputs": [
    {
     "name": "stdout",
     "output_type": "stream",
     "text": [
      "+-----+\n",
      "|1*3*1|\n",
      "|13*31|\n",
      "|·2*2·|\n",
      "|·111·|\n",
      "+-----+\n"
     ]
    }
   ],
   "source": [
    "def test_Q5():\n",
    "    board1 = ['·*·*·',\n",
    "              '··*··',\n",
    "              '··*··',\n",
    "              '·····']\n",
    "\n",
    "    printBoard(mineCount(board1))\n",
    "    \n",
    "test_Q5()"
   ]
  },
  {
   "cell_type": "markdown",
   "metadata": {},
   "source": [
    "### <span style=\"color:red\">Question 6:</span> Go Counting (20 pts)\n",
    "\n",
    "In the game of go (also known as wéiqí), points are gained by completely encircling empty intersections with your stones. The encircled intersections of a player are known as its territory.  Multiple empty intersections may be encircled at once, and for encircling only horizontal and vertical neighbours count. To be more precise, an empty intersection is part of a player's territory if all of its neighbours are either stones of that player or empty intersections that are part of that player's territory.\n",
    "\n",
    "In the following diagram is a 5x4 go board. The stones of ours are marked `O` and the stones of the opponent are marked `X`. Empty spaces represent empty intersections.\n",
    "```python\n",
    "+----+\n",
    "|XOOX|\n",
    "|O  O|\n",
    "|O OX|\n",
    "|O OX|\n",
    "|XOX |\n",
    "+----+\n",
    "```\n",
    "\n",
    "Write a function called `territory` that takes a board as input, and outputs a board of 0's and 1's, for which 1 indicates the territory.\n",
    "\n",
    "<span style=\"color:green\"> <b>Examples:</b></span>\n",
    "```python\n",
    "board1 = ['XOOX',\n",
    "          'O  O',\n",
    "          'O OX',\n",
    "          'O OX',\n",
    "          'XOX ']\n",
    "\n",
    "board2 = ['XOOXX',\n",
    "          'O  OX',\n",
    "          ' OOXO',\n",
    "          'OXOO ',\n",
    "          'X  O ']\n",
    "\n",
    "printBoard(territory(board1))\n",
    "printBoard(territory(board2))\n",
    "```\n",
    "Should result in\n",
    "```python\n",
    "+----+\n",
    "|0110|\n",
    "|1111|\n",
    "|1110|\n",
    "|1110|\n",
    "|0100|\n",
    "+----+\n",
    "\n",
    "+-----+\n",
    "|01100|\n",
    "|11110|\n",
    "|11101|\n",
    "|10111|\n",
    "|00011|\n",
    "+-----+\n",
    "```"
   ]
  },
  {
   "cell_type": "code",
   "execution_count": null,
   "metadata": {},
   "outputs": [],
   "source": [
    "# Question 6\n",
    "\n",
    "def territory(board):\n",
    "    # Insert your code here.  Remember to remove the pass statement.\n",
    "    pass"
   ]
  },
  {
   "cell_type": "code",
   "execution_count": 25,
   "metadata": {},
   "outputs": [
    {
     "ename": "NameError",
     "evalue": "name 'territory' is not defined",
     "output_type": "error",
     "traceback": [
      "\u001b[0;31m---------------------------------------------------------------------------\u001b[0m",
      "\u001b[0;31mNameError\u001b[0m                                 Traceback (most recent call last)",
      "\u001b[0;32m<ipython-input-25-a68af1ebbd54>\u001b[0m in \u001b[0;36m<module>\u001b[0;34m\u001b[0m\n\u001b[1;32m     13\u001b[0m     \u001b[0mprintBoard\u001b[0m\u001b[0;34m(\u001b[0m\u001b[0mterritory\u001b[0m\u001b[0;34m(\u001b[0m\u001b[0mboard2\u001b[0m\u001b[0;34m)\u001b[0m\u001b[0;34m)\u001b[0m\u001b[0;34m\u001b[0m\u001b[0;34m\u001b[0m\u001b[0m\n\u001b[1;32m     14\u001b[0m \u001b[0;34m\u001b[0m\u001b[0m\n\u001b[0;32m---> 15\u001b[0;31m \u001b[0mtest_Q6\u001b[0m\u001b[0;34m(\u001b[0m\u001b[0;34m)\u001b[0m\u001b[0;34m\u001b[0m\u001b[0;34m\u001b[0m\u001b[0m\n\u001b[0m",
      "\u001b[0;32m<ipython-input-25-a68af1ebbd54>\u001b[0m in \u001b[0;36mtest_Q6\u001b[0;34m()\u001b[0m\n\u001b[1;32m     10\u001b[0m               \u001b[0;34m'OXOO '\u001b[0m\u001b[0;34m,\u001b[0m\u001b[0;34m\u001b[0m\u001b[0;34m\u001b[0m\u001b[0m\n\u001b[1;32m     11\u001b[0m               'X  O ']\n\u001b[0;32m---> 12\u001b[0;31m     \u001b[0mprintBoard\u001b[0m\u001b[0;34m(\u001b[0m\u001b[0mterritory\u001b[0m\u001b[0;34m(\u001b[0m\u001b[0mboard1\u001b[0m\u001b[0;34m)\u001b[0m\u001b[0;34m)\u001b[0m\u001b[0;34m\u001b[0m\u001b[0;34m\u001b[0m\u001b[0m\n\u001b[0m\u001b[1;32m     13\u001b[0m     \u001b[0mprintBoard\u001b[0m\u001b[0;34m(\u001b[0m\u001b[0mterritory\u001b[0m\u001b[0;34m(\u001b[0m\u001b[0mboard2\u001b[0m\u001b[0;34m)\u001b[0m\u001b[0;34m)\u001b[0m\u001b[0;34m\u001b[0m\u001b[0;34m\u001b[0m\u001b[0m\n\u001b[1;32m     14\u001b[0m \u001b[0;34m\u001b[0m\u001b[0m\n",
      "\u001b[0;31mNameError\u001b[0m: name 'territory' is not defined"
     ]
    }
   ],
   "source": [
    "def test_Q6():\n",
    "    board1 = ['XOOX',\n",
    "              'O  O',\n",
    "              'O OX',\n",
    "              'O OX',\n",
    "              'XOX ']\n",
    "    board2 = ['XOOXX',\n",
    "              'O  OX',\n",
    "              ' OOXO',\n",
    "              'OXOO ',\n",
    "              'X  O ']\n",
    "    printBoard(territory(board1))\n",
    "    printBoard(territory(board2))\n",
    "    \n",
    "test_Q6()"
   ]
  },
  {
   "cell_type": "code",
   "execution_count": null,
   "metadata": {},
   "outputs": [],
   "source": []
  }
 ],
 "metadata": {
  "kernelspec": {
   "display_name": "Python 3",
   "language": "python",
   "name": "python3"
  },
  "language_info": {
   "codemirror_mode": {
    "name": "ipython",
    "version": 3
   },
   "file_extension": ".py",
   "mimetype": "text/x-python",
   "name": "python",
   "nbconvert_exporter": "python",
   "pygments_lexer": "ipython3",
   "version": "3.8.8"
  }
 },
 "nbformat": 4,
 "nbformat_minor": 2
}
