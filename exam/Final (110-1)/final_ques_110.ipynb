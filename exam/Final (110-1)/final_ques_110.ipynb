{
 "cells": [
  {
   "cell_type": "markdown",
   "metadata": {},
   "source": [
    "<div style=\"text-align:center;color:#888888;\"><h2> IMP 5004 - Python Programming for Intelligent Medicine </h2></div>\n",
    "<div style=\"text-align:center;\"><h1> Final Exam (110-1) - Solution </h1></div>\n",
    "\n",
    "* Exam date: 2022/01/06 9:10-12:10\n",
    "* There are 8 questions, 110 points in total.\n",
    "* Open everything including the Internet. Feel free to import any package you need.\n",
    "* \"Cheating\" is basically coordinating with others. So don't do that.\n",
    "* When you find necessary to raise an exception, please include a meaningful error message to indicate what the source of the error is."
   ]
  },
  {
   "cell_type": "code",
   "execution_count": 24,
   "metadata": {},
   "outputs": [],
   "source": [
    "from IPython.core.interactiveshell import InteractiveShell\n",
    "InteractiveShell.ast_node_interactivity = \"all\""
   ]
  },
  {
   "cell_type": "code",
   "execution_count": 25,
   "metadata": {},
   "outputs": [],
   "source": [
    "from IPython.display import Image\n",
    "%matplotlib inline"
   ]
  },
  {
   "cell_type": "code",
   "execution_count": 26,
   "metadata": {},
   "outputs": [],
   "source": [
    "import numpy as np\n",
    "import os\n",
    "import pandas as pd"
   ]
  },
  {
   "cell_type": "code",
   "execution_count": 27,
   "metadata": {},
   "outputs": [],
   "source": [
    "df = pd.read_csv(\"data/iris.csv\", index_col=False)"
   ]
  },
  {
   "cell_type": "markdown",
   "metadata": {},
   "source": [
    "### <span style=\"color:red\">Question 1:</span> Dataframe setting column name (5 pts)\n",
    "\n",
    "Please read the file `iris_data.npy` into a data frame, with the names of the columns being *sepallength*, *sepalwidth*, *petallength*, *petalwidth*, *species*, respectively.\n",
    "\n",
    "<span style=\"color:green\"> <b>Examples:</b></span>\n",
    "```python\n",
    "df = Q1('iris_data.npy')\n",
    "df.head()\n",
    "```\n",
    "Should result in\n",
    "<img src=\"img/iris_dataframe_raw.png\" style=\"height: 150px; \"/>"
   ]
  },
  {
   "cell_type": "code",
   "execution_count": 28,
   "metadata": {},
   "outputs": [],
   "source": [
    "# Please write your code here. Remember to remove the pass statement.\n",
    "def Q1(df):\n",
    "    df = pd.read_csv(\"data/iris.csv\", index_col=False)\n",
    "    pd.DataFrame(df, columns=['sepallength', 'sepalwidth', 'petallength', 'petalwidth', 'species'])"
   ]
  },
  {
   "cell_type": "code",
   "execution_count": 29,
   "metadata": {},
   "outputs": [
    {
     "data": {
      "text/html": [
       "<div>\n",
       "<style scoped>\n",
       "    .dataframe tbody tr th:only-of-type {\n",
       "        vertical-align: middle;\n",
       "    }\n",
       "\n",
       "    .dataframe tbody tr th {\n",
       "        vertical-align: top;\n",
       "    }\n",
       "\n",
       "    .dataframe thead th {\n",
       "        text-align: right;\n",
       "    }\n",
       "</style>\n",
       "<table border=\"1\" class=\"dataframe\">\n",
       "  <thead>\n",
       "    <tr style=\"text-align: right;\">\n",
       "      <th></th>\n",
       "      <th>sepallength</th>\n",
       "      <th>sepalwidth</th>\n",
       "      <th>petallength</th>\n",
       "      <th>petalwidth</th>\n",
       "      <th>species</th>\n",
       "    </tr>\n",
       "  </thead>\n",
       "  <tbody>\n",
       "    <tr>\n",
       "      <th>0</th>\n",
       "      <td>5.1</td>\n",
       "      <td>3.5</td>\n",
       "      <td>1.4</td>\n",
       "      <td>0.2</td>\n",
       "      <td>Iris-setosa</td>\n",
       "    </tr>\n",
       "    <tr>\n",
       "      <th>1</th>\n",
       "      <td>4.9</td>\n",
       "      <td>3.0</td>\n",
       "      <td>1.4</td>\n",
       "      <td>0.2</td>\n",
       "      <td>Iris-setosa</td>\n",
       "    </tr>\n",
       "    <tr>\n",
       "      <th>2</th>\n",
       "      <td>4.7</td>\n",
       "      <td>3.2</td>\n",
       "      <td>1.3</td>\n",
       "      <td>0.2</td>\n",
       "      <td>Iris-setosa</td>\n",
       "    </tr>\n",
       "    <tr>\n",
       "      <th>3</th>\n",
       "      <td>4.6</td>\n",
       "      <td>3.1</td>\n",
       "      <td>1.5</td>\n",
       "      <td>0.2</td>\n",
       "      <td>Iris-setosa</td>\n",
       "    </tr>\n",
       "    <tr>\n",
       "      <th>4</th>\n",
       "      <td>5.0</td>\n",
       "      <td>3.6</td>\n",
       "      <td>1.4</td>\n",
       "      <td>0.2</td>\n",
       "      <td>Iris-setosa</td>\n",
       "    </tr>\n",
       "  </tbody>\n",
       "</table>\n",
       "</div>"
      ],
      "text/plain": [
       "   sepallength  sepalwidth  petallength  petalwidth      species\n",
       "0          5.1         3.5          1.4         0.2  Iris-setosa\n",
       "1          4.9         3.0          1.4         0.2  Iris-setosa\n",
       "2          4.7         3.2          1.3         0.2  Iris-setosa\n",
       "3          4.6         3.1          1.5         0.2  Iris-setosa\n",
       "4          5.0         3.6          1.4         0.2  Iris-setosa"
      ]
     },
     "execution_count": 29,
     "metadata": {},
     "output_type": "execute_result"
    }
   ],
   "source": [
    "df = pd.read_csv(\"data/Q1.csv\")\n",
    "df.head()"
   ]
  },
  {
   "cell_type": "markdown",
   "metadata": {},
   "source": [
    "### <span style=\"color:red\">Question 2:</span> Show data summary (10 pts)\n",
    "\n",
    "Print out information including\n",
    "* count\n",
    "* mean\n",
    "* std (standard deviation)\n",
    "* min\n",
    "* The 12.5th, 25th, 50th, 75th, 87.5th percentiles\n",
    "* max\n",
    "\n",
    "for all the features (sepallength, sepalwidth, petallength, petalwidth) in iris dataset.\n",
    "\n",
    "(Percentile definition: https://en.wikipedia.org/wiki/Percentile)\n",
    "\n",
    "<span style=\"color:green\"> <b>Reference Output:</b></span>\n",
    "<img src=\"img/iris_summary.png\" style=\"height: 250px; \"/>"
   ]
  },
  {
   "cell_type": "code",
   "execution_count": 30,
   "metadata": {},
   "outputs": [
    {
     "data": {
      "text/html": [
       "<div>\n",
       "<style scoped>\n",
       "    .dataframe tbody tr th:only-of-type {\n",
       "        vertical-align: middle;\n",
       "    }\n",
       "\n",
       "    .dataframe tbody tr th {\n",
       "        vertical-align: top;\n",
       "    }\n",
       "\n",
       "    .dataframe thead th {\n",
       "        text-align: right;\n",
       "    }\n",
       "</style>\n",
       "<table border=\"1\" class=\"dataframe\">\n",
       "  <thead>\n",
       "    <tr style=\"text-align: right;\">\n",
       "      <th></th>\n",
       "      <th>sepallength</th>\n",
       "      <th>sepalwidth</th>\n",
       "      <th>petallength</th>\n",
       "      <th>petalwidth</th>\n",
       "    </tr>\n",
       "  </thead>\n",
       "  <tbody>\n",
       "    <tr>\n",
       "      <th>count</th>\n",
       "      <td>150.000000</td>\n",
       "      <td>150.000000</td>\n",
       "      <td>150.000000</td>\n",
       "      <td>150.000000</td>\n",
       "    </tr>\n",
       "    <tr>\n",
       "      <th>mean</th>\n",
       "      <td>5.843333</td>\n",
       "      <td>3.054000</td>\n",
       "      <td>3.758667</td>\n",
       "      <td>1.198667</td>\n",
       "    </tr>\n",
       "    <tr>\n",
       "      <th>std</th>\n",
       "      <td>0.828066</td>\n",
       "      <td>0.433594</td>\n",
       "      <td>1.764420</td>\n",
       "      <td>0.763161</td>\n",
       "    </tr>\n",
       "    <tr>\n",
       "      <th>min</th>\n",
       "      <td>4.300000</td>\n",
       "      <td>2.000000</td>\n",
       "      <td>1.000000</td>\n",
       "      <td>0.100000</td>\n",
       "    </tr>\n",
       "    <tr>\n",
       "      <th>12.5%</th>\n",
       "      <td>4.900000</td>\n",
       "      <td>2.562500</td>\n",
       "      <td>1.400000</td>\n",
       "      <td>0.200000</td>\n",
       "    </tr>\n",
       "    <tr>\n",
       "      <th>25%</th>\n",
       "      <td>5.100000</td>\n",
       "      <td>2.800000</td>\n",
       "      <td>1.600000</td>\n",
       "      <td>0.300000</td>\n",
       "    </tr>\n",
       "    <tr>\n",
       "      <th>50%</th>\n",
       "      <td>5.800000</td>\n",
       "      <td>3.000000</td>\n",
       "      <td>4.350000</td>\n",
       "      <td>1.300000</td>\n",
       "    </tr>\n",
       "    <tr>\n",
       "      <th>75%</th>\n",
       "      <td>6.400000</td>\n",
       "      <td>3.300000</td>\n",
       "      <td>5.100000</td>\n",
       "      <td>1.800000</td>\n",
       "    </tr>\n",
       "    <tr>\n",
       "      <th>87.5%</th>\n",
       "      <td>6.800000</td>\n",
       "      <td>3.500000</td>\n",
       "      <td>5.637500</td>\n",
       "      <td>2.100000</td>\n",
       "    </tr>\n",
       "    <tr>\n",
       "      <th>max</th>\n",
       "      <td>7.900000</td>\n",
       "      <td>4.400000</td>\n",
       "      <td>6.900000</td>\n",
       "      <td>2.500000</td>\n",
       "    </tr>\n",
       "  </tbody>\n",
       "</table>\n",
       "</div>"
      ],
      "text/plain": [
       "       sepallength  sepalwidth  petallength  petalwidth\n",
       "count   150.000000  150.000000   150.000000  150.000000\n",
       "mean      5.843333    3.054000     3.758667    1.198667\n",
       "std       0.828066    0.433594     1.764420    0.763161\n",
       "min       4.300000    2.000000     1.000000    0.100000\n",
       "12.5%     4.900000    2.562500     1.400000    0.200000\n",
       "25%       5.100000    2.800000     1.600000    0.300000\n",
       "50%       5.800000    3.000000     4.350000    1.300000\n",
       "75%       6.400000    3.300000     5.100000    1.800000\n",
       "87.5%     6.800000    3.500000     5.637500    2.100000\n",
       "max       7.900000    4.400000     6.900000    2.500000"
      ]
     },
     "execution_count": 30,
     "metadata": {},
     "output_type": "execute_result"
    }
   ],
   "source": [
    "# Please write your code here\n",
    "# Reference: https://vimsky.com/zh-tw/examples/usage/python-pandas-dataframe-describe-method.html\n",
    "perc = [0.125,0.25,0.50,0.75,0.875]\n",
    "df.describe(percentiles = perc)"
   ]
  },
  {
   "cell_type": "markdown",
   "metadata": {},
   "source": [
    "### <span style=\"color:red\">Question 3:</span> Filter a dataframe with multiple conditions (10 pts)\n",
    "Filter the rows that has *sepalwidth* > 2.1 and *petallength* < 1.4.\n",
    "\n",
    "<span style=\"color:green\"> <b>Reference Output:</b></span>\n",
    "<img src=\"img/row_selection.png\" style=\"height: 250px; \"/>"
   ]
  },
  {
   "cell_type": "code",
   "execution_count": 31,
   "metadata": {},
   "outputs": [
    {
     "name": "stderr",
     "output_type": "stream",
     "text": [
      "<ipython-input-31-2b1f0901f342>:4: UserWarning: Boolean Series key will be reindexed to match DataFrame index.\n",
      "  df[sepalwidth > 2.1][petallength < 1.4]\n"
     ]
    },
    {
     "data": {
      "text/html": [
       "<div>\n",
       "<style scoped>\n",
       "    .dataframe tbody tr th:only-of-type {\n",
       "        vertical-align: middle;\n",
       "    }\n",
       "\n",
       "    .dataframe tbody tr th {\n",
       "        vertical-align: top;\n",
       "    }\n",
       "\n",
       "    .dataframe thead th {\n",
       "        text-align: right;\n",
       "    }\n",
       "</style>\n",
       "<table border=\"1\" class=\"dataframe\">\n",
       "  <thead>\n",
       "    <tr style=\"text-align: right;\">\n",
       "      <th></th>\n",
       "      <th>sepallength</th>\n",
       "      <th>sepalwidth</th>\n",
       "      <th>petallength</th>\n",
       "      <th>petalwidth</th>\n",
       "      <th>species</th>\n",
       "    </tr>\n",
       "  </thead>\n",
       "  <tbody>\n",
       "    <tr>\n",
       "      <th>2</th>\n",
       "      <td>4.7</td>\n",
       "      <td>3.2</td>\n",
       "      <td>1.3</td>\n",
       "      <td>0.2</td>\n",
       "      <td>Iris-setosa</td>\n",
       "    </tr>\n",
       "    <tr>\n",
       "      <th>13</th>\n",
       "      <td>4.3</td>\n",
       "      <td>3.0</td>\n",
       "      <td>1.1</td>\n",
       "      <td>0.1</td>\n",
       "      <td>Iris-setosa</td>\n",
       "    </tr>\n",
       "    <tr>\n",
       "      <th>14</th>\n",
       "      <td>5.8</td>\n",
       "      <td>4.0</td>\n",
       "      <td>1.2</td>\n",
       "      <td>0.2</td>\n",
       "      <td>Iris-setosa</td>\n",
       "    </tr>\n",
       "    <tr>\n",
       "      <th>16</th>\n",
       "      <td>5.4</td>\n",
       "      <td>3.9</td>\n",
       "      <td>1.3</td>\n",
       "      <td>0.4</td>\n",
       "      <td>Iris-setosa</td>\n",
       "    </tr>\n",
       "    <tr>\n",
       "      <th>22</th>\n",
       "      <td>4.6</td>\n",
       "      <td>3.6</td>\n",
       "      <td>1.0</td>\n",
       "      <td>0.2</td>\n",
       "      <td>Iris-setosa</td>\n",
       "    </tr>\n",
       "    <tr>\n",
       "      <th>35</th>\n",
       "      <td>5.0</td>\n",
       "      <td>3.2</td>\n",
       "      <td>1.2</td>\n",
       "      <td>0.2</td>\n",
       "      <td>Iris-setosa</td>\n",
       "    </tr>\n",
       "    <tr>\n",
       "      <th>36</th>\n",
       "      <td>5.5</td>\n",
       "      <td>3.5</td>\n",
       "      <td>1.3</td>\n",
       "      <td>0.2</td>\n",
       "      <td>Iris-setosa</td>\n",
       "    </tr>\n",
       "    <tr>\n",
       "      <th>38</th>\n",
       "      <td>4.4</td>\n",
       "      <td>3.0</td>\n",
       "      <td>1.3</td>\n",
       "      <td>0.2</td>\n",
       "      <td>Iris-setosa</td>\n",
       "    </tr>\n",
       "    <tr>\n",
       "      <th>40</th>\n",
       "      <td>5.0</td>\n",
       "      <td>3.5</td>\n",
       "      <td>1.3</td>\n",
       "      <td>0.3</td>\n",
       "      <td>Iris-setosa</td>\n",
       "    </tr>\n",
       "    <tr>\n",
       "      <th>41</th>\n",
       "      <td>4.5</td>\n",
       "      <td>2.3</td>\n",
       "      <td>1.3</td>\n",
       "      <td>0.3</td>\n",
       "      <td>Iris-setosa</td>\n",
       "    </tr>\n",
       "    <tr>\n",
       "      <th>42</th>\n",
       "      <td>4.4</td>\n",
       "      <td>3.2</td>\n",
       "      <td>1.3</td>\n",
       "      <td>0.2</td>\n",
       "      <td>Iris-setosa</td>\n",
       "    </tr>\n",
       "  </tbody>\n",
       "</table>\n",
       "</div>"
      ],
      "text/plain": [
       "    sepallength  sepalwidth  petallength  petalwidth      species\n",
       "2           4.7         3.2          1.3         0.2  Iris-setosa\n",
       "13          4.3         3.0          1.1         0.1  Iris-setosa\n",
       "14          5.8         4.0          1.2         0.2  Iris-setosa\n",
       "16          5.4         3.9          1.3         0.4  Iris-setosa\n",
       "22          4.6         3.6          1.0         0.2  Iris-setosa\n",
       "35          5.0         3.2          1.2         0.2  Iris-setosa\n",
       "36          5.5         3.5          1.3         0.2  Iris-setosa\n",
       "38          4.4         3.0          1.3         0.2  Iris-setosa\n",
       "40          5.0         3.5          1.3         0.3  Iris-setosa\n",
       "41          4.5         2.3          1.3         0.3  Iris-setosa\n",
       "42          4.4         3.2          1.3         0.2  Iris-setosa"
      ]
     },
     "execution_count": 31,
     "metadata": {},
     "output_type": "execute_result"
    }
   ],
   "source": [
    "# Please write your code here\n",
    "sepalwidth = df['sepalwidth']\n",
    "petallength = df['petallength']\n",
    "df[sepalwidth > 2.1][petallength < 1.4]"
   ]
  },
  {
   "cell_type": "markdown",
   "metadata": {},
   "source": [
    "### <span style=\"color:red\">Question 4:</span> Find correlations between features (10 pts)\n",
    "\n",
    "Find the correlation between *sepalwidth* and *petallength*.\n",
    "\n",
    "<span style=\"color:green\"> <b>Reference Output:</b></span>\n",
    "```python\n",
    "-0.42051609640115445\n",
    "```"
   ]
  },
  {
   "cell_type": "code",
   "execution_count": 32,
   "metadata": {},
   "outputs": [
    {
     "data": {
      "text/plain": [
       "-0.42051609640115445"
      ]
     },
     "execution_count": 32,
     "metadata": {},
     "output_type": "execute_result"
    }
   ],
   "source": [
    "# Please write your code here\n",
    "df['sepalwidth'].corr(df['petallength'])"
   ]
  },
  {
   "cell_type": "markdown",
   "metadata": {},
   "source": [
    "### <span style=\"color:red\">Question 5:</span> Linear regression (15 pts)\n",
    "\n",
    "Fit a linear regression function that predicts *petallength* from *sepallength*\tand *petalwidth*.  The regression function takes the form\n",
    "\n",
    "$$y = w_0 x_0 + w_1 x_1 + b$$\n",
    "\n",
    "where $x_0$ is the *sepallength* and $x_1$ is the *petalwidth*, and $y$ is the estimated *petallength*.  Report $w_0$, $w_1$, $b$, as well as the $R^2$-value.\n",
    "\n",
    "<span style=\"color:green\"> <b>Examples:</b></span>\n",
    "```python\n",
    "R_sqr, w, b = Q5()\n",
    "print(f'y = {w[0]:.3f} x0 + {w[1]:.3f} x1 + {b:.3f}')\n",
    "print(f'R square = {R_sqr:.3f}')\n",
    "```\n",
    "Should result in\n",
    "```python\n",
    "y = 0.543 x0 + 1.744 x1 + -1.502\n",
    "R square = 0.948\n",
    "```"
   ]
  },
  {
   "cell_type": "code",
   "execution_count": 33,
   "metadata": {},
   "outputs": [
    {
     "name": "stdout",
     "output_type": "stream",
     "text": [
      "b = [8.78937886]\n",
      "R_train = 0.15117975352646185\n",
      "R_test = 0.26791188864550297\n"
     ]
    }
   ],
   "source": [
    "# Please write your code here. Remember to remove the pass statement.\n",
    "# https://towardsdatascience.com/linear-regressions-with-scikitlearn-a5d54efe898f\n",
    "def Q5():\n",
    "    from sklearn.model_selection import train_test_split\n",
    "    from sklearn.linear_model import LinearRegression\n",
    "    x0 = df['sepalwidth'].values.reshape(-1,1)\n",
    "    x1 = df['petallength'].values.reshape(-1,1)\n",
    "    x_train, x_test, y_train, y_test = train_test_split(x0,x1,test_size=0.2,random_state=1)\n",
    "    linreg = LinearRegression().fit(x_train,y_train)\n",
    "    print('b =',linreg.intercept_)\n",
    "    print('R_train =',linreg.score(x_train,y_train))\n",
    "    print('R_test =',linreg.score(x_test,y_test))\n",
    "Q5()"
   ]
  },
  {
   "cell_type": "code",
   "execution_count": 34,
   "metadata": {},
   "outputs": [
    {
     "name": "stdout",
     "output_type": "stream",
     "text": [
      "b = [8.78937886]\n",
      "R_train = 0.15117975352646185\n",
      "R_test = 0.26791188864550297\n"
     ]
    },
    {
     "ename": "TypeError",
     "evalue": "cannot unpack non-iterable NoneType object",
     "output_type": "error",
     "traceback": [
      "\u001b[0;31m---------------------------------------------------------------------------\u001b[0m",
      "\u001b[0;31mTypeError\u001b[0m                                 Traceback (most recent call last)",
      "\u001b[0;32m<ipython-input-34-bf8ba35716e2>\u001b[0m in \u001b[0;36m<module>\u001b[0;34m\u001b[0m\n\u001b[1;32m      1\u001b[0m \u001b[0;31m# This cell will not be graded. Feel free to alter at your wish.\u001b[0m\u001b[0;34m\u001b[0m\u001b[0;34m\u001b[0m\u001b[0;34m\u001b[0m\u001b[0m\n\u001b[0;32m----> 2\u001b[0;31m \u001b[0mR_sqr\u001b[0m\u001b[0;34m,\u001b[0m \u001b[0mw\u001b[0m\u001b[0;34m,\u001b[0m \u001b[0mb\u001b[0m \u001b[0;34m=\u001b[0m \u001b[0mQ5\u001b[0m\u001b[0;34m(\u001b[0m\u001b[0;34m)\u001b[0m\u001b[0;34m\u001b[0m\u001b[0;34m\u001b[0m\u001b[0m\n\u001b[0m\u001b[1;32m      3\u001b[0m \u001b[0mprint\u001b[0m\u001b[0;34m(\u001b[0m\u001b[0;34mf'y = {w[0]:.3f} x0 + {w[1]:.3f} x1 + {b:.3f}'\u001b[0m\u001b[0;34m)\u001b[0m\u001b[0;34m\u001b[0m\u001b[0;34m\u001b[0m\u001b[0m\n\u001b[1;32m      4\u001b[0m \u001b[0mprint\u001b[0m\u001b[0;34m(\u001b[0m\u001b[0;34mf'R square = {R_sqr:.3f}'\u001b[0m\u001b[0;34m)\u001b[0m\u001b[0;34m\u001b[0m\u001b[0;34m\u001b[0m\u001b[0m\n",
      "\u001b[0;31mTypeError\u001b[0m: cannot unpack non-iterable NoneType object"
     ]
    }
   ],
   "source": [
    "# This cell will not be graded. Feel free to alter at your wish.\n",
    "R_sqr, w, b = Q5()\n",
    "print(f'y = {w[0]:.3f} x0 + {w[1]:.3f} x1 + {b:.3f}')\n",
    "print(f'R square = {R_sqr:.3f}')"
   ]
  },
  {
   "cell_type": "markdown",
   "metadata": {},
   "source": [
    "### <span style=\"color:red\">Question 6:</span> Asymetric random matrix (15 pts)\n",
    "Write a function `asymRandomMtx(n)` that returns a $n \\times n$ numpy array which is a random anti-symmetric matrix. (That is, $a_{ij}=-a_{ji}$ where $a_{kl}$ denotes the element at the $k$-th row and $l$-th column)\n",
    "\n",
    "<span style=\"color:green\"> <b>Examples:</b></span>\n",
    "```python\n",
    "asymRandomMtx(4)\n",
    "```\n",
    "A possible answer might be\n",
    "```python\n",
    "array([[ 0,  1,  0, -1],\n",
    "       [-1,  0,  0,  1],\n",
    "       [ 0,  0,  0, -1],\n",
    "       [ 1, -1,  1,  0]])\n",
    "```"
   ]
  },
  {
   "cell_type": "code",
   "execution_count": 35,
   "metadata": {},
   "outputs": [
    {
     "name": "stdout",
     "output_type": "stream",
     "text": [
      "[[ 0.80981255  0.87217591  0.9646476   0.72368535]\n",
      " [-0.87217591  0.71745362  0.46759901  0.32558468]\n",
      " [-0.9646476  -0.46759901  0.99401459  0.67687371]\n",
      " [-0.72368535 -0.32558468 -0.67687371  0.80037024]]\n"
     ]
    }
   ],
   "source": [
    "# Please write your code here. Remember to remove the pass statement.\n",
    "# Reference(建立對稱矩陣): https://codertw.com/程式語言/363766/\n",
    "def asymRandomMtx(n):\n",
    "    X = np.random.rand(n**2).reshape(n, n) #輸入矩陣大小與隨機值\n",
    "    X = np.triu(X) #保留上三角矩陣的部分\n",
    "    X_T = X.T - np.diag(X.diagonal()) #將上三角複製到下三角部分\n",
    "    print(X+(-X_T)) #將下三角變號\n",
    "asymRandomMtx(4)"
   ]
  },
  {
   "cell_type": "code",
   "execution_count": 36,
   "metadata": {},
   "outputs": [
    {
     "name": "stdout",
     "output_type": "stream",
     "text": [
      "[[ 0.92961609  0.31637555  0.18391881  0.20456028]\n",
      " [-0.31637555  0.5955447   0.96451452  0.6531771 ]\n",
      " [-0.18391881 -0.96451452  0.74771481  0.96130674]\n",
      " [-0.20456028 -0.6531771  -0.96130674  0.65641118]]\n"
     ]
    }
   ],
   "source": [
    "# This cell will not be graded. Feel free to alter at your wish.\n",
    "np.random.seed(12345)\n",
    "asymRandomMtx(4)"
   ]
  },
  {
   "cell_type": "markdown",
   "metadata": {},
   "source": [
    "### <span style=\"color:red\">Question 7:</span> Solving system of linear equations (20 pts)\n",
    "\n",
    "Solve $x_1$, $x_2$, $x_3$ that satisfy the following system of equations:\n",
    "$$\\left[\\begin{array}{cc}  0.9344 & 0.0958\\\\ 0.0958 & 0.8599 \\end{array}\\right]^{10}\n",
    " \\left[\\begin{array}{c} -1.1916 x_1 + 0.1397 x_2 -1.8054 x_3\\\\ -0.8549 x_1 + 0.03040 x_2 -0.9211 x_3\\end{array}\\right]\n",
    "= \\left[\\begin{array}{c}  1.9890 \\\\ 1.3183 \\end{array}\\right]$$\n",
    "\n",
    "$$1.1441 x_1 -0.1975 x_2 + 0.2262 x_3 = 0.3270$$\n",
    "\n",
    "- Hint: `numpy.concatenate`.\n",
    "\n",
    "<span style=\"color:green\"> <b>Examples:</b></span>\n",
    "```python\n",
    "x = Q6()\n",
    "print(f'x1 = {x[0]:.4f}, x2 = {x[1]:.4f}, x3 = {x[2]:.4f}')\n",
    "```\n",
    "\n",
    "Should result in\n",
    "```python\n",
    "x1 = 0.3861, x2 = -1.1920, x3 = -1.5478\n",
    "```"
   ]
  },
  {
   "cell_type": "code",
   "execution_count": 37,
   "metadata": {},
   "outputs": [
    {
     "name": "stdout",
     "output_type": "stream",
     "text": [
      "x1 = -7.9900, x2 = -48.7045, x3 = -0.6665\n"
     ]
    }
   ],
   "source": [
    "# Please write your code here. Remember to remove the pass statement.\n",
    "# Reference(解三元一次方程式): https://blog.csdn.net/Meereen/article/details/105807011\n",
    "def Q7():\n",
    "    from scipy import linalg\n",
    "    obj1 = np.array([[0.9344,0.0958],[0.0958,0.8599]])\n",
    "    obj2 = np.power(obj1,10)\n",
    "    #obj2[0][0]*(-1.1916*x1+0.1397*x2-1.8054*x3)+obj2[0][1]*(-0.8549*x1+0.03040*x2-0.9211*x3)=1.9890\n",
    "    x1 = obj2[0][0]*(-1.1916)+obj2[0][1]*(-0.8549)\n",
    "    x2 = obj2[0][0]*(0.1397)+obj2[0][1]*(0.0304)\n",
    "    x3 = obj2[0][0]*(-1.8054)+obj2[0][1]*(-0.9211)\n",
    "    #obj2[1][0]*(-1.1916*x1+0.1397*x2-1.8054*x3)+obj2[1][1]*(-0.8549*x1+0.03040*x2-0.9211*x3)=1.3183\n",
    "    y1 = obj2[1][0]*(-1.1916)+obj2[1][1]*(-0.8549)\n",
    "    y2 = obj2[1][0]*(0.1397)+obj2[1][1]*(0.0304)\n",
    "    y3 = obj2[1][0]*(-1.8054)+obj2[1][1]*(-0.9211)\n",
    "    a = np.array([[1.1441,-0.1975,0.2262],[x1,x2,x3],[y1,y2,y3]])\n",
    "    b = np.array([0.3270,1.9890,1.3183])\n",
    "    x = linalg.solve(a,b)\n",
    "    print(f'x1 = {x[0]:.4f}, x2 = {x[1]:.4f}, x3 = {x[2]:.4f}')\n",
    "Q7()"
   ]
  },
  {
   "cell_type": "code",
   "execution_count": 38,
   "metadata": {},
   "outputs": [
    {
     "data": {
      "text/plain": [
       "0.3270174500000016"
      ]
     },
     "execution_count": 38,
     "metadata": {},
     "output_type": "execute_result"
    }
   ],
   "source": [
    "#check 1.1441x1 - 0.1975x2 + 0.2262x3 = 0.3270\n",
    "1.1441*(-7.9900) - 0.1975*(-48.7045) + 0.2262*(-0.6665)"
   ]
  },
  {
   "cell_type": "markdown",
   "metadata": {},
   "source": [
    "### <span style=\"color:red\">Question 8:</span> Three random walkers (25 pts)\n",
    "\n",
    "*Ada*, *Chris*, *Jill*, *Leon*, and *Wesker* are drunk, and each of them independently performs random walk of `nsteps` steps among a straint line of integer points \n",
    "\n",
    "$...,-3,-2,-1,0,1,2,3,...$\n",
    "\n",
    "Suppose they initially start from various locations, we are interested in knowing who will endup in the right-most position after a fixed steps of random walk. \n",
    "\n",
    "Denote integer $X_i^{(t)}$ as the position at which person $i$ stands at time $t$, then for the next time step $t+1$ he/she will take one among the three following actions with equal probability ($1/3$ each):\n",
    "\n",
    "* Step forward:  $X_i^{(t+1)} = X_i^{(t)}+1$\n",
    "* Step backward: $X_i^{(t+1)} = X_i^{(t)}-1$\n",
    "* Not moving:    $X_i^{(t+1)} = X_i^{(t)}$\n",
    "\n",
    "Write a function `drunk_race(offset, nwalks, nsteps)` that simulates `nwalks` trials, where in each trial each person $i$ starts from $X_i^{(0)}=$ `offset[i]` and independently performs the aforementioned random walk for $T=$ `nsteps` steps. The output will be a pandas series indicating, for each person $i$, how many times among those `nwalks` trials does he/she end up at the right most position (i.e., $X_i^{(T)} = \\max_j X_j^{(T)}$) after random walk.\n",
    "\n",
    "<span style=\"color:green\"> <b>Examples:</b></span>\n",
    "```python\n",
    "nwalks = 5000\n",
    "nsteps = 1000\n",
    "players = ['Chris','Jill','Leon','Wesker','Ada']\n",
    "offset = pd.Series([0,10,20,30,40], index = players)\n",
    "\n",
    "wins = drunk_race(offset, nwalks, nsteps)\n",
    "print(f'Among {nwalks} trials of {nsteps}-step random walks:')\n",
    "for player in players:\n",
    "    print(f'{player:10s} starts at {offset[player]:3d} and ends up at the right-most in {wins[player]:5d} trials ({100*wins[player]/nwalks:2.2f} %)')\n",
    "```\n",
    "Might result in\n",
    "```python\n",
    "Among 5000 trials of 1000-step random walks:\n",
    "Chris      starts at   0 and ends up at the right-most in   204 trials (4.08 %)\n",
    "Jill       starts at  10 and ends up at the right-most in   431 trials (8.62 %)\n",
    "Leon       starts at  20 and ends up at the right-most in   777 trials (15.54 %)\n",
    "Wesker     starts at  30 and ends up at the right-most in  1394 trials (27.88 %)\n",
    "Ada        starts at  40 and ends up at the right-most in  2285 trials (45.70 %)\n",
    "```\n",
    "\n",
    "* Due to randomness the percentages may fluctuate a little bit.\n",
    "* Due to the occasional ties (two or more people ending up at the same rightmost position), the percentages may total over 100%."
   ]
  },
  {
   "cell_type": "code",
   "execution_count": 39,
   "metadata": {},
   "outputs": [],
   "source": [
    "# Please write your code here. Remember to remove the pass statement.\n",
    "def drunk_race(offset, nwalks = 5000, nsteps = 1000):\n",
    "    pass"
   ]
  },
  {
   "cell_type": "code",
   "execution_count": 40,
   "metadata": {},
   "outputs": [
    {
     "name": "stdout",
     "output_type": "stream",
     "text": [
      "Among 5000 trials of 1000-step random walks:\n"
     ]
    },
    {
     "ename": "TypeError",
     "evalue": "'NoneType' object is not subscriptable",
     "output_type": "error",
     "traceback": [
      "\u001b[0;31m---------------------------------------------------------------------------\u001b[0m",
      "\u001b[0;31mTypeError\u001b[0m                                 Traceback (most recent call last)",
      "\u001b[0;32m<ipython-input-40-2f8711aa53e9>\u001b[0m in \u001b[0;36m<module>\u001b[0;34m\u001b[0m\n\u001b[1;32m      9\u001b[0m \u001b[0mprint\u001b[0m\u001b[0;34m(\u001b[0m\u001b[0;34mf'Among {nwalks} trials of {nsteps}-step random walks:'\u001b[0m\u001b[0;34m)\u001b[0m\u001b[0;34m\u001b[0m\u001b[0;34m\u001b[0m\u001b[0m\n\u001b[1;32m     10\u001b[0m \u001b[0;32mfor\u001b[0m \u001b[0mplayer\u001b[0m \u001b[0;32min\u001b[0m \u001b[0mplayers\u001b[0m\u001b[0;34m:\u001b[0m\u001b[0;34m\u001b[0m\u001b[0;34m\u001b[0m\u001b[0m\n\u001b[0;32m---> 11\u001b[0;31m     \u001b[0mprint\u001b[0m\u001b[0;34m(\u001b[0m\u001b[0;34mf'{player:10s} starts at {offset[player]:3d} and ends up at the right-most in {wins[player]:5d} trials ({100*wins[player]/nwalks:2.2f} %)'\u001b[0m\u001b[0;34m)\u001b[0m\u001b[0;34m\u001b[0m\u001b[0;34m\u001b[0m\u001b[0m\n\u001b[0m",
      "\u001b[0;31mTypeError\u001b[0m: 'NoneType' object is not subscriptable"
     ]
    }
   ],
   "source": [
    "# This cell will not be graded. Feel free to alter at your wish.\n",
    "np.random.seed(12345)\n",
    "nwalks = 5000\n",
    "nsteps = 1000\n",
    "players = ['Chris','Jill','Leon','Wesker','Ada']\n",
    "offset = pd.Series([0,10,20,30,40], index = players)\n",
    "\n",
    "wins = drunk_race(offset, nwalks, nsteps)\n",
    "print(f'Among {nwalks} trials of {nsteps}-step random walks:')\n",
    "for player in players:\n",
    "    print(f'{player:10s} starts at {offset[player]:3d} and ends up at the right-most in {wins[player]:5d} trials ({100*wins[player]/nwalks:2.2f} %)')"
   ]
  },
  {
   "cell_type": "code",
   "execution_count": null,
   "metadata": {},
   "outputs": [],
   "source": []
  }
 ],
 "metadata": {
  "kernelspec": {
   "display_name": "Python 3",
   "language": "python",
   "name": "python3"
  },
  "language_info": {
   "codemirror_mode": {
    "name": "ipython",
    "version": 3
   },
   "file_extension": ".py",
   "mimetype": "text/x-python",
   "name": "python",
   "nbconvert_exporter": "python",
   "pygments_lexer": "ipython3",
   "version": "3.8.8"
  }
 },
 "nbformat": 4,
 "nbformat_minor": 4
}
